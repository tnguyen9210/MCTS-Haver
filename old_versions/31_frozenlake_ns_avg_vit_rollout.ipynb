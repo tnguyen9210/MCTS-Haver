{
 "cells": [
  {
   "cell_type": "code",
   "execution_count": 1,
   "id": "ec74e067-4a28-4ea8-a9cc-2f42451e3be1",
   "metadata": {
    "tags": []
   },
   "outputs": [],
   "source": [
    "from collections import defaultdict\n",
    "import random\n",
    "import numpy as np\n",
    "np.set_printoptions(precision=2, suppress=True)\n",
    "\n",
    "import time\n",
    "import copy \n",
    "import multiprocess as mp\n",
    "\n",
    "import gym\n",
    "from env import FrozenLakeCustom, FrozenLakeSimulator\n",
    "\n",
    "from mcts_haver import run_mcts_trial\n",
    "from value_iteration import value_iteration\n",
    "\n",
    "from config import parse_args\n",
    "from utils import MultiProcess\n",
    "\n",
    "import logging\n",
    "logger = logging.getLogger()\n",
    "logger.setLevel(logging.FATAL)"
   ]
  },
  {
   "cell_type": "code",
   "execution_count": 2,
   "id": "7439dddd-4cdb-485d-a305-16d217b8781b",
   "metadata": {
    "tags": []
   },
   "outputs": [],
   "source": [
    "np.random.seed(0)\n",
    "random.seed(0)\n",
    "\n",
    "# params\n",
    "args = parse_args()\n",
    "\n",
    "#\n",
    "env_id = \"FrozenLake-v1\"\n",
    "env = FrozenLakeCustom(\n",
    "    map_name=args[\"map_name\"], is_slippery=args[\"is_slippery\"],\n",
    "    render_mode=args[\"render_mode\"])\n",
    "\n",
    "simulator = FrozenLakeSimulator(env.P)\n",
    "\n",
    "V_vit, Q_vit = value_iteration(\n",
    "    simulator, args[\"gamma\"], args[\"vit_thres\"])\n",
    "# global Q_vit_g = Q_vit\n",
    "        \n",
    "for state in range(simulator.num_states):\n",
    "    logging.warning(f\"\\n-> state = {state}\")\n",
    "    logging.warning(f\"V[state] = {V_vit[state]:0.4f}\")\n",
    "    for action in range(simulator.num_actions):\n",
    "        logging.warning(f\"Q[state][action] = {Q_vit[state][action]:0.4f}\")\n",
    "    logging.warning(f\"best_action={np.argmax(Q_vit[state])}\")\n",
    "    \n",
    "manager = mp.Manager()\n",
    "ep_reward_list = manager.list()\n",
    "Q_mcts_list = manager.list()\n",
    "\n",
    "def run_trial(i_trial, Q_vit, args):\n",
    "\n",
    "    random.seed(10000+i_trial)\n",
    "    np.random.seed(10000+i_trial)\n",
    "\n",
    "#     env = FrozenLakeCustom(\n",
    "#         map_name=args[\"map_name\"], is_slippery=args[\"is_slippery\"],\n",
    "#         render_mode=args[\"render_mode\"])\n",
    "\n",
    "#     simulator = FrozenLakeSimulator(env.P)\n",
    "\n",
    "    Q_mcts, ep_reward = run_mcts_trial(env, simulator, Q_vit, i_trial, args)\n",
    "\n",
    "    ep_reward_list.append(ep_reward)\n",
    "    Q_mcts_list.append(Q_mcts)\n",
    "    return ep_reward"
   ]
  },
  {
   "cell_type": "code",
   "execution_count": null,
   "id": "e9d0cc51-788f-4160-82e6-30a1aea317fe",
   "metadata": {
    "tags": []
   },
   "outputs": [
    {
     "name": "stdout",
     "output_type": "stream",
     "text": [
      "num_trials = 20\n",
      "mcts_max_its = 2000\n",
      "\n",
      "-> hparam_ucb_scale = 1\n",
      "ep_reward = -10.00 is too small\n",
      "reward = -10.00 +/- 0.00\n",
      "it takes 12.6863\n",
      "\n",
      "-> hparam_ucb_scale = 2\n",
      "ep_reward = -10.00 is too small\n",
      "reward = -10.00 +/- 0.00\n",
      "it takes 13.3770\n",
      "\n",
      "-> hparam_ucb_scale = 4\n"
     ]
    }
   ],
   "source": [
    "args[\"update_method\"] = \"avg\"\n",
    "args[\"rollout_method\"] = \"\"\n",
    "\n",
    "print(f\"num_trials = {args['num_trials']}\")\n",
    "print(f\"mcts_max_its = {args['mcts_max_iterations']}\")\n",
    "\n",
    "Q_mcts_dict = defaultdict()\n",
    "\n",
    "hparam_ucb_scale_ary = np.arange(10, 100, 10)\n",
    "hparam_ucb_scale_ary = [1, 2, 4, 8, 16, 32, 64, 128]\n",
    "# hparam_ucb_scale_ary = [2**i for i in range(8, 12)]\n",
    "\n",
    "best_param = None\n",
    "max_reward_mean = -np.inf\n",
    "\n",
    "for hparam_ucb_scale in hparam_ucb_scale_ary:\n",
    "    start_time = time.time()\n",
    "    \n",
    "    print(f\"\\n-> hparam_ucb_scale = {hparam_ucb_scale}\")\n",
    "    args[\"hparam_ucb_scale\"] = hparam_ucb_scale\n",
    "    \n",
    "    processes = MultiProcess()\n",
    "    processes.run(\n",
    "        run_trial, [(i, Q_vit, args) for i in range(args[\"num_trials\"])])\n",
    "    \n",
    "    reward_mean = np.mean(ep_reward_list)\n",
    "    reward_std = np.std(ep_reward_list, ddof=1) if len(ep_reward_list) > 1 else 0\n",
    "    print(f\"reward = {reward_mean:0.2f} +/- {reward_std:0.2f}\")\n",
    "    \n",
    "    Q_mcts_dict[f\"{hparam_ucb_scale}\"] = copy.deepcopy(Q_mcts_list)\n",
    "    \n",
    "    if reward_mean > max_reward_mean:\n",
    "        max_reward_mean = reward_mean \n",
    "        best_param = hparam_ucb_scale\n",
    "    \n",
    "    end_time = time.time()\n",
    "    print(f\"it takes {end_time-start_time:0.4f}\")"
   ]
  },
  {
   "cell_type": "code",
   "execution_count": null,
   "id": "74d9d773-a10f-45bf-a513-9f8661c58c01",
   "metadata": {
    "tags": []
   },
   "outputs": [],
   "source": [
    "Q_mcts_avg = defaultdict(lambda: np.zeros(simulator.num_actions))\n",
    "for i_trial, Q_mcts in enumerate(Q_mcts_dict[f\"{best_param}\"]):\n",
    "    for s in range(16):\n",
    "        Q_mcts_avg[s] = (1-1/(i_trial+1))*Q_mcts_avg[s] + 1/(i_trial+1)*Q_mcts[s]\n",
    "\n",
    "Q_mcts_avg = Q_mcts_dict[f\"{best_param}\"][1]\n",
    "for state in range(simulator.num_states):\n",
    "    print(f\"\\n-> state = {state}\")\n",
    "    print(f\"V[state] = {np.max(Q_mcts_avg[state]):0.4f} | {np.max(Q_vit[state]):0.4f}\")\n",
    "    for action in range(simulator.num_actions):\n",
    "        print(f\"Q[state][action] = {Q_mcts_avg[state][action]:0.4f} | {Q_vit[state][action]:0.4f}\")\n",
    "    print(f\"best_action = {np.argmax(Q_mcts_avg[state])} | {np.argmax(Q_vit[state])}\")"
   ]
  }
 ],
 "metadata": {
  "kernelspec": {
   "display_name": "Python 3 (ipykernel)",
   "language": "python",
   "name": "python3"
  },
  "language_info": {
   "codemirror_mode": {
    "name": "ipython",
    "version": 3
   },
   "file_extension": ".py",
   "mimetype": "text/x-python",
   "name": "python",
   "nbconvert_exporter": "python",
   "pygments_lexer": "ipython3",
   "version": "3.7.16"
  }
 },
 "nbformat": 4,
 "nbformat_minor": 5
}
