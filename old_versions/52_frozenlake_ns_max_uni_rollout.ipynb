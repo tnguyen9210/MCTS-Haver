{
 "cells": [
  {
   "cell_type": "code",
   "execution_count": 1,
   "id": "ec74e067-4a28-4ea8-a9cc-2f42451e3be1",
   "metadata": {
    "tags": []
   },
   "outputs": [],
   "source": [
    "from collections import defaultdict\n",
    "import random\n",
    "import numpy as np\n",
    "np.set_printoptions(precision=2, suppress=True)\n",
    "\n",
    "import time\n",
    "import copy \n",
    "import multiprocess as mp\n",
    "\n",
    "import gym\n",
    "from env import FrozenLakeCustom, FrozenLakeSimulator\n",
    "\n",
    "from mcts_haver import run_mcts_trial\n",
    "from value_iteration import value_iteration\n",
    "\n",
    "from config import parse_args\n",
    "from utils import MultiProcess\n",
    "\n",
    "import logging\n",
    "logger = logging.getLogger()\n",
    "logger.setLevel(logging.FATAL)"
   ]
  },
  {
   "cell_type": "code",
   "execution_count": 2,
   "id": "7439dddd-4cdb-485d-a305-16d217b8781b",
   "metadata": {
    "tags": []
   },
   "outputs": [],
   "source": [
    "np.random.seed(0)\n",
    "random.seed(0)\n",
    "\n",
    "# params\n",
    "args = parse_args()\n",
    "\n",
    "#\n",
    "env_id = \"FrozenLake-v1\"\n",
    "env = FrozenLakeCustom(\n",
    "    map_name=args[\"map_name\"], is_slippery=args[\"is_slippery\"],\n",
    "    render_mode=args[\"render_mode\"])\n",
    "\n",
    "simulator = FrozenLakeSimulator(env.P)\n",
    "\n",
    "V_vit, Q_vit = value_iteration(\n",
    "    simulator, args[\"gamma\"], args[\"vit_thres\"])\n",
    "# global Q_vit_g = Q_vit\n",
    "        \n",
    "for state in range(simulator.num_states):\n",
    "    logging.warning(f\"\\n-> state = {state}\")\n",
    "    logging.warning(f\"V[state] = {V_vit[state]:0.4f}\")\n",
    "    for action in range(simulator.num_actions):\n",
    "        logging.warning(f\"Q[state][action] = {Q_vit[state][action]:0.4f}\")\n",
    "    logging.warning(f\"best_action={np.argmax(Q_vit[state])}\")\n",
    "    \n",
    "manager = mp.Manager()\n",
    "ep_reward_list = manager.list()\n",
    "Q_mcts_list = manager.list()\n",
    "\n",
    "def run_trial(i_trial, Q_vit, args):\n",
    "\n",
    "    random.seed(10000+i_trial)\n",
    "    np.random.seed(10000+i_trial)\n",
    "\n",
    "    env = FrozenLakeCustom(\n",
    "        map_name=args[\"map_name\"], is_slippery=args[\"is_slippery\"],\n",
    "        render_mode=args[\"render_mode\"])\n",
    "\n",
    "    simulator = FrozenLakeSimulator(env.P)\n",
    "\n",
    "    Q_mcts, ep_reward = run_mcts_trial(env, simulator, Q_vit, i_trial, args)\n",
    "\n",
    "    ep_reward_list.append(ep_reward)\n",
    "    Q_mcts_list.append(Q_mcts)\n",
    "    return ep_reward"
   ]
  },
  {
   "cell_type": "code",
   "execution_count": null,
   "id": "e9d0cc51-788f-4160-82e6-30a1aea317fe",
   "metadata": {
    "tags": []
   },
   "outputs": [],
   "source": [
    "args[\"update_method\"] = \"max\"\n",
    "args[\"rollout_method\"] = \"\"\n",
    "\n",
    "print(f\"num_trials = {args['num_trials']}\")\n",
    "# print(f\"mcts_num_trajectories = {args['mcts_num_trajectories']}\")\n",
    "\n",
    "Q_mcts_dict = defaultdict()\n",
    "\n",
    "\n",
    "\n",
    "hparam_ucb_scale_list = np.arange(10, 100, 10)\n",
    "# hparam_ucb_scale_list = np.arange(20, 64, 4)\n",
    "hparam_ucb_scale_list = [1, 2, 4, 8, 16, 32, 64, 128]\n",
    "# hparam_ucb_scale_list = [2**i for i in range(1, 9)]\n",
    "\n",
    "\n",
    "num_trajectories_list = [200, 500, 1000, 1500, 2000, 2500, 3000]\n",
    "# num_trajectories_list = [200, 500, 800]\n",
    "# num_trajectories_list = [2]\n",
    "best_param_list = []\n",
    "max_reward_mean_list = []\n",
    "res_text1 = \"\"\n",
    "res_text2 = \"\"\n",
    "for num_trajectories in num_trajectories_list:\n",
    "    print(f\"\\n-> num_trajectories = {num_trajectories}\")\n",
    "    args[\"mcts_num_trajectories\"] = num_trajectories\n",
    "    \n",
    "    best_param = None\n",
    "    max_reward_mean = -np.inf\n",
    "    start_time = time.time()\n",
    "    res_text1 += f\"{num_trajectories} \"\n",
    "    res_text2 += f\"{num_trajectories} \"\n",
    "    for hparam_ucb_scale in hparam_ucb_scale_list:\n",
    "        # start_time = time.time()\n",
    "\n",
    "        # print(f\"hparam_ucb_scale = {hparam_ucb_scale}\")\n",
    "        args[\"hparam_ucb_scale\"] = hparam_ucb_scale\n",
    "        \n",
    "        pool = mp.Pool()\n",
    "        pool.starmap(run_trial, [(i, Q_vit, args) for i in range(args[\"num_trials\"])])\n",
    "\n",
    "        reward_mean = np.mean(ep_reward_list)\n",
    "        reward_std = np.std(ep_reward_list, ddof=1) if len(ep_reward_list) > 1 else 0\n",
    "        if hparam_ucb_scale <= 8:\n",
    "            res_text1 += f\"& {reward_mean:0.2f} (\\u00B1{reward_std:0.2f}) \"\n",
    "        else:\n",
    "            res_text2 += f\"& {reward_mean:0.2f} (\\u00B1{reward_std:0.2f}) \"\n",
    "        # print(f\"reward = {reward_mean:0.2f} +/- {reward_std:0.2f}\")\n",
    "\n",
    "        Q_mcts_dict[f\"{hparam_ucb_scale}\"] = copy.deepcopy(Q_mcts_list)\n",
    "\n",
    "        if reward_mean > max_reward_mean:\n",
    "            max_reward_mean = reward_mean \n",
    "            best_param = hparam_ucb_scale\n",
    "    \n",
    "        ep_reward_list[:] = []\n",
    "        Q_mcts_list[:] = []\n",
    "    \n",
    "        end_time = time.time()\n",
    "        # print(f\"it takes {end_time-start_time:0.4f}\")\n",
    "    \n",
    "    res_text1 += \"\\\\\\\\ \\n \\hline \\n\"\n",
    "    res_text2 += \"\\\\\\\\ \\n \\hline \\n\"\n",
    "    \n",
    "    # print(f\"max_reward_mean = {max_reward_mean:0.2f}\")\n",
    "    # print(f\"it takes {end_time-start_time:0.4f}\")\n",
    "    \n",
    "    max_reward_mean_list.append(max_reward_mean)\n",
    "    best_param_list.append(best_param)"
   ]
  },
  {
   "cell_type": "code",
   "execution_count": 4,
   "id": "74d9d773-a10f-45bf-a513-9f8661c58c01",
   "metadata": {
    "tags": []
   },
   "outputs": [
    {
     "name": "stdout",
     "output_type": "stream",
     "text": [
      "[64, 64, 64, 32, 64, 64, 64]\n"
     ]
    }
   ],
   "source": [
    "print(best_param_list)"
   ]
  },
  {
   "cell_type": "code",
   "execution_count": 5,
   "id": "62dda670-a657-4df7-8c01-56ff279c8c33",
   "metadata": {
    "tags": []
   },
   "outputs": [
    {
     "name": "stdout",
     "output_type": "stream",
     "text": [
      "200 & -101.15 (±0.49) & -96.30 (±21.73) & -76.85 (±43.04) & -52.80 (±49.46) \\\\ \n",
      " \\hline \n",
      "500 & -101.05 (±0.22) & -101.10 (±0.31) & -57.40 (±49.56) & -52.50 (±49.76) \\\\ \n",
      " \\hline \n",
      "1000 & -96.20 (±21.70) & -96.30 (±21.49) & -71.90 (±45.61) & -38.25 (±47.35) \\\\ \n",
      " \\hline \n",
      "1500 & -101.10 (±0.31) & -96.45 (±21.53) & -77.30 (±43.21) & -38.15 (±47.32) \\\\ \n",
      " \\hline \n",
      "2000 & -101.10 (±0.45) & -91.35 (±29.70) & -86.50 (±35.56) & -28.50 (±42.95) \\\\ \n",
      " \\hline \n",
      "2500 & -101.00 (±0.00) & -101.05 (±0.22) & -81.85 (±39.43) & -33.35 (±45.78) \\\\ \n",
      " \\hline \n",
      "3000 & -101.10 (±0.31) & -101.30 (±0.73) & -81.65 (±39.83) & -14.35 (±29.66) \\\\ \n",
      " \\hline \n",
      "\n",
      "200 & -42.90 (±48.67) & -28.45 (±42.98) & -18.65 (±35.50) & -23.50 (±39.76) \\\\ \n",
      " \\hline \n",
      "500 & -28.55 (±42.92) & -28.25 (±43.09) & -18.55 (±35.54) & -18.55 (±35.54) \\\\ \n",
      " \\hline \n",
      "1000 & -23.65 (±39.68) & -8.95 (±21.67) & -8.85 (±21.69) & -8.85 (±21.69) \\\\ \n",
      " \\hline \n",
      "1500 & -18.65 (±35.50) & -4.00 (±0.00) & -4.00 (±0.00) & -4.00 (±0.00) \\\\ \n",
      " \\hline \n",
      "2000 & -9.20 (±21.62) & -4.20 (±0.62) & -4.00 (±0.00) & -4.00 (±0.00) \\\\ \n",
      " \\hline \n",
      "2500 & -14.00 (±29.76) & -4.05 (±0.22) & -4.00 (±0.00) & -8.85 (±21.69) \\\\ \n",
      " \\hline \n",
      "3000 & -4.45 (±0.60) & -4.30 (±0.73) & -4.00 (±0.00) & -4.00 (±0.00) \\\\ \n",
      " \\hline \n",
      "\n"
     ]
    }
   ],
   "source": [
    "print(res_text1)\n",
    "print(res_text2)"
   ]
  }
 ],
 "metadata": {
  "kernelspec": {
   "display_name": "Python 3 (ipykernel)",
   "language": "python",
   "name": "python3"
  },
  "language_info": {
   "codemirror_mode": {
    "name": "ipython",
    "version": 3
   },
   "file_extension": ".py",
   "mimetype": "text/x-python",
   "name": "python",
   "nbconvert_exporter": "python",
   "pygments_lexer": "ipython3",
   "version": "3.7.16"
  }
 },
 "nbformat": 4,
 "nbformat_minor": 5
}
