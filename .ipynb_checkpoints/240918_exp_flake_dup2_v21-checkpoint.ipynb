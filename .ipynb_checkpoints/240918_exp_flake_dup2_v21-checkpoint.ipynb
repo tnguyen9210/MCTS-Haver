{
 "cells": [
  {
   "cell_type": "code",
   "execution_count": 1,
   "id": "109f087f-e16d-4a2d-b664-70af275fcc80",
   "metadata": {
    "tags": []
   },
   "outputs": [],
   "source": [
    "from collections import defaultdict\n",
    "import numpy as np\n",
    "import random\n",
    "\n",
    "import time\n",
    "\n",
    "import gym\n",
    "from mcts_haver import MCTS_Haver\n",
    "from mcts import MCTS\n",
    "from utils import FrozenLakeSimulator\n",
    "\n",
    "import logging\n",
    "logging.basicConfig(level=logging.WARNING)\n",
    "\n"
   ]
  },
  {
   "cell_type": "code",
   "execution_count": 2,
   "id": "da199788-68a9-4753-9155-fe636336abb2",
   "metadata": {},
   "outputs": [],
   "source": [
    "np.random.seed(0)\n",
    "random.seed(0)\n",
    "\n",
    "# params\n",
    "env_id = \"FrozenLake-v1\"\n",
    "action_multi = 4\n",
    "gamma = 0.95\n",
    "num_ep_trials = 100\n",
    "ep_max_steps = 100\n",
    "\n",
    "mcts_max_steps = 2000\n",
    "mcts_max_depth = 3\n",
    "mcts_rollout_max_depth = 100\n",
    "\n",
    "# create gym env\n",
    "env = gym.make(\n",
    "    env_id, map_name=\"4x4\", is_slippery=False)\n",
    "\n",
    "num_states = env.observation_space.n\n",
    "num_actions = env.action_space.n\n",
    "\n",
    "# create simulator\n",
    "simulator = FrozenLakeSimulator(env.P, num_actions)\n",
    "\n"
   ]
  },
  {
   "cell_type": "code",
   "execution_count": 3,
   "id": "f47ba415-fdb9-4047-addd-95a205af7d44",
   "metadata": {},
   "outputs": [
    {
     "name": "stdout",
     "output_type": "stream",
     "text": [
      "ep=10, avg_reward = 0.4000, run_time=3.0331\n",
      "ep=20, avg_reward = 0.3500, run_time=3.3551\n",
      "ep=30, avg_reward = 0.3667, run_time=3.4350\n",
      "ep=40, avg_reward = 0.3500, run_time=3.4547\n",
      "ep=50, avg_reward = 0.3000, run_time=3.4749\n",
      "ep=60, avg_reward = 0.3167, run_time=3.4353\n",
      "ep=70, avg_reward = 0.3000, run_time=3.4577\n",
      "ep=80, avg_reward = 0.2750, run_time=3.4613\n",
      "ep=90, avg_reward = 0.3000, run_time=3.4768\n",
      "ep=100, avg_reward = 0.2900, run_time=3.5240\n",
      "avg_reward = 0.2900\n"
     ]
    }
   ],
   "source": [
    "np.random.seed(0)\n",
    "random.seed(0)\n",
    "\n",
    "# Average update\n",
    "# run game trials\n",
    "all_ep_reward = 0\n",
    "start_time = time.time()\n",
    "for i_ep in range(num_ep_trials):\n",
    "    state, info = env.reset()\n",
    "    # state = f\"{state}\"\n",
    "\n",
    "    mcts = MCTS(simulator, num_actions, gamma, action_multi,\n",
    "                mcts_max_steps, mcts_max_depth, mcts_rollout_max_depth)\n",
    "\n",
    "    ep_reward = 0\n",
    "    for i_step in range(ep_max_steps):\n",
    "        # print(i_step)\n",
    "        action = mcts.run(int(state))\n",
    "        next_state, reward, terminated, truncated, info = env.step(action)\n",
    "        ep_reward += reward\n",
    "\n",
    "        if terminated or truncated:\n",
    "            break\n",
    "\n",
    "        state = next_state\n",
    "\n",
    "    # logging.warn(f\"i_step = {i_step}, eps_reward={ep_reward:0.2f}, {ep_reward/(i_step+1):0.2f}\")\n",
    "\n",
    "    end_time = time.time()\n",
    "    all_ep_reward += ep_reward\n",
    "    if (i_ep+1) % 10 == 0:\n",
    "        print(f\"ep={i_ep+1}, avg_reward = {all_ep_reward/(i_ep+1):0.4f}, run_time={(end_time-start_time)/(i_ep+1):0.4f}\")\n",
    "\n",
    "print(f\"avg_reward = {all_ep_reward/num_ep_trials:0.4f}\")"
   ]
  },
  {
   "cell_type": "code",
   "execution_count": null,
   "id": "82681d97-b761-4c65-8624-937e687eebff",
   "metadata": {},
   "outputs": [
    {
     "name": "stdout",
     "output_type": "stream",
     "text": [
      "ep=10, avg_reward = 0.2000, run_time=2.7658\n"
     ]
    }
   ],
   "source": [
    "np.random.seed(0)\n",
    "random.seed(0)\n",
    "\n",
    "# Haver update\n",
    "# run game trials\n",
    "all_ep_reward = 0\n",
    "start_time = time.time()\n",
    "for i_ep in range(num_ep_trials):\n",
    "    state, info = env.reset()\n",
    "    # state = f\"{state}\"\n",
    "\n",
    "    mcts = MCTS_Haver(simulator, num_actions, gamma, action_multi,\n",
    "                mcts_max_steps, mcts_max_depth, mcts_rollout_max_depth, update_method=\"haver\")\n",
    "\n",
    "    ep_reward = 0\n",
    "    for i_step in range(ep_max_steps):\n",
    "        # print(i_step)\n",
    "        action = mcts.run(int(state))\n",
    "        next_state, reward, terminated, truncated, info = env.step(action)\n",
    "        ep_reward += reward\n",
    "\n",
    "        if terminated or truncated:\n",
    "            break\n",
    "\n",
    "        state = next_state\n",
    "\n",
    "    # logging.warn(f\"i_step = {i_step}, eps_reward={ep_reward:0.2f}, {ep_reward/(i_step+1):0.2f}\")\n",
    "\n",
    "    end_time = time.time()\n",
    "    all_ep_reward += ep_reward\n",
    "    if (i_ep+1) % 10 == 0:\n",
    "        print(f\"ep={i_ep+1}, avg_reward = {all_ep_reward/(i_ep+1):0.4f}, run_time={(end_time-start_time)/(i_ep+1):0.4f}\")\n",
    "\n",
    "print(f\"avg_reward = {all_ep_reward/num_ep_trials:0.4f}\")"
   ]
  },
  {
   "cell_type": "code",
   "execution_count": null,
   "id": "e0e35405-d3a6-41e0-92e6-c9ada4de37c9",
   "metadata": {},
   "outputs": [],
   "source": []
  }
 ],
 "metadata": {
  "kernelspec": {
   "display_name": "Python 3 (ipykernel)",
   "language": "python",
   "name": "python3"
  },
  "language_info": {
   "codemirror_mode": {
    "name": "ipython",
    "version": 3
   },
   "file_extension": ".py",
   "mimetype": "text/x-python",
   "name": "python",
   "nbconvert_exporter": "python",
   "pygments_lexer": "ipython3",
   "version": "3.7.16"
  }
 },
 "nbformat": 4,
 "nbformat_minor": 5
}
