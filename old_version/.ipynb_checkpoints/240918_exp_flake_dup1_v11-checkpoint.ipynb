{
 "cells": [
  {
   "cell_type": "code",
   "execution_count": 1,
   "id": "109f087f-e16d-4a2d-b664-70af275fcc80",
   "metadata": {
    "tags": []
   },
   "outputs": [],
   "source": [
    "from collections import defaultdict\n",
    "import numpy as np\n",
    "import random\n",
    "\n",
    "import time\n",
    "\n",
    "import gym\n",
    "from mcts_haver import MCTS_Haver\n",
    "from mcts import MCTS\n",
    "from utils import FrozenLakeSimulator\n",
    "\n",
    "import logging\n",
    "logging.basicConfig(level=logging.WARNING)\n",
    "\n"
   ]
  },
  {
   "cell_type": "code",
   "execution_count": 2,
   "id": "da199788-68a9-4753-9155-fe636336abb2",
   "metadata": {},
   "outputs": [],
   "source": [
    "np.random.seed(0)\n",
    "random.seed(0)\n",
    "\n",
    "# params\n",
    "env_id = \"FrozenLake-v1\"\n",
    "gamma = 0.95\n",
    "num_episodes_train = 100\n",
    "ep_max_steps = 100\n",
    "\n",
    "mcts_max_steps = 2000\n",
    "mcts_max_depth = 3\n",
    "mcts_rollout_max_depth = 100\n",
    "\n",
    "# create gym env\n",
    "env = gym.make(\n",
    "    env_id, map_name=\"4x4\", is_slippery=False)\n",
    "\n",
    "num_states = env.observation_space.n\n",
    "num_actions = env.action_space.n\n",
    "\n",
    "# create simulator\n",
    "simulator = FrozenLakeSimulator(env.P, num_actions)\n",
    "\n"
   ]
  },
  {
   "cell_type": "code",
   "execution_count": 3,
   "id": "f47ba415-fdb9-4047-addd-95a205af7d44",
   "metadata": {},
   "outputs": [
    {
     "ename": "TypeError",
     "evalue": "run() takes 2 positional arguments but 3 were given",
     "output_type": "error",
     "traceback": [
      "\u001b[0;31m---------------------------------------------------------------------------\u001b[0m",
      "\u001b[0;31mTypeError\u001b[0m                                 Traceback (most recent call last)",
      "\u001b[0;32m/tmp/ipykernel_2805522/305140728.py\u001b[0m in \u001b[0;36m<module>\u001b[0;34m\u001b[0m\n\u001b[1;32m     13\u001b[0m     \u001b[0;32mfor\u001b[0m \u001b[0mi_step\u001b[0m \u001b[0;32min\u001b[0m \u001b[0mrange\u001b[0m\u001b[0;34m(\u001b[0m\u001b[0mep_max_steps\u001b[0m\u001b[0;34m)\u001b[0m\u001b[0;34m:\u001b[0m\u001b[0;34m\u001b[0m\u001b[0;34m\u001b[0m\u001b[0m\n\u001b[1;32m     14\u001b[0m         \u001b[0;31m# print(i_step)\u001b[0m\u001b[0;34m\u001b[0m\u001b[0;34m\u001b[0m\u001b[0;34m\u001b[0m\u001b[0m\n\u001b[0;32m---> 15\u001b[0;31m         \u001b[0maction\u001b[0m \u001b[0;34m=\u001b[0m \u001b[0mmcts\u001b[0m\u001b[0;34m.\u001b[0m\u001b[0mrun\u001b[0m\u001b[0;34m(\u001b[0m\u001b[0mi_step\u001b[0m\u001b[0;34m,\u001b[0m \u001b[0mint\u001b[0m\u001b[0;34m(\u001b[0m\u001b[0mstate\u001b[0m\u001b[0;34m)\u001b[0m\u001b[0;34m)\u001b[0m\u001b[0;34m\u001b[0m\u001b[0;34m\u001b[0m\u001b[0m\n\u001b[0m\u001b[1;32m     16\u001b[0m         \u001b[0mnext_state\u001b[0m\u001b[0;34m,\u001b[0m \u001b[0mreward\u001b[0m\u001b[0;34m,\u001b[0m \u001b[0mterminated\u001b[0m\u001b[0;34m,\u001b[0m \u001b[0mtruncated\u001b[0m\u001b[0;34m,\u001b[0m \u001b[0minfo\u001b[0m \u001b[0;34m=\u001b[0m \u001b[0menv\u001b[0m\u001b[0;34m.\u001b[0m\u001b[0mstep\u001b[0m\u001b[0;34m(\u001b[0m\u001b[0maction\u001b[0m\u001b[0;34m)\u001b[0m\u001b[0;34m\u001b[0m\u001b[0;34m\u001b[0m\u001b[0m\n\u001b[1;32m     17\u001b[0m         \u001b[0mep_reward\u001b[0m \u001b[0;34m+=\u001b[0m \u001b[0mreward\u001b[0m\u001b[0;34m\u001b[0m\u001b[0;34m\u001b[0m\u001b[0m\n",
      "\u001b[0;31mTypeError\u001b[0m: run() takes 2 positional arguments but 3 were given"
     ]
    }
   ],
   "source": [
    "# Average update\n",
    "# run game trials\n",
    "all_ep_reward = 0\n",
    "start_time = time.time()\n",
    "for i_ep in range(num_episodes_train):\n",
    "    state, info = env.reset()\n",
    "    # state = f\"{state}\"\n",
    "\n",
    "    mcts = MCTS(simulator, num_actions, gamma,\n",
    "                mcts_max_steps, mcts_max_depth, mcts_rollout_max_depth)\n",
    "\n",
    "    ep_reward = 0\n",
    "    for i_step in range(ep_max_steps):\n",
    "        # print(i_step)\n",
    "        action = mcts.run(int(state))\n",
    "        next_state, reward, terminated, truncated, info = env.step(action)\n",
    "        ep_reward += reward\n",
    "\n",
    "        if terminated or truncated:\n",
    "            break\n",
    "\n",
    "        state = next_state\n",
    "\n",
    "    # logging.warn(f\"i_step = {i_step}, eps_reward={ep_reward:0.2f}, {ep_reward/(i_step+1):0.2f}\")\n",
    "\n",
    "    end_time = time.time()\n",
    "    all_ep_reward += ep_reward\n",
    "    if (i_ep+1) % 10 == 0:\n",
    "        print(f\"ep={i_ep+1}, avg_reward = {all_ep_reward/(i_ep+1):0.4f}, run_time={(end_time-start_time)/(i_ep+1):0.4f}\")\n",
    "\n",
    "print(f\"avg_reward = {all_ep_reward/num_episodes_train:0.4f}\")"
   ]
  },
  {
   "cell_type": "code",
   "execution_count": null,
   "id": "82681d97-b761-4c65-8624-937e687eebff",
   "metadata": {},
   "outputs": [],
   "source": [
    "# Haver update\n",
    "# run game trials\n",
    "all_ep_reward = 0\n",
    "start_time = time.time()\n",
    "for i_ep in range(num_episodes_train):\n",
    "    state, info = env.reset()\n",
    "    # state = f\"{state}\"\n",
    "\n",
    "    mcts = MCTS(simulator, num_actions, gamma,\n",
    "                mcts_max_steps, mcts_max_depth, mcts_rollout_max_depth, update_method=\"haver\")\n",
    "\n",
    "    ep_reward = 0\n",
    "    for i_step in range(ep_max_steps):\n",
    "        # print(i_step)\n",
    "        action = mcts.run(int(state))\n",
    "        next_state, reward, terminated, truncated, info = env.step(action)\n",
    "        ep_reward += reward\n",
    "\n",
    "        if terminated or truncated:\n",
    "            break\n",
    "\n",
    "        state = next_state\n",
    "\n",
    "    # logging.warn(f\"i_step = {i_step}, eps_reward={ep_reward:0.2f}, {ep_reward/(i_step+1):0.2f}\")\n",
    "\n",
    "    end_time = time.time()\n",
    "    all_ep_reward += ep_reward\n",
    "    if (i_ep+1) % 10 == 0:\n",
    "        print(f\"ep={i_ep+1}, avg_reward = {all_ep_reward/(i_ep+1):0.4f}, run_time={(end_time-start_time)/(i_ep+1):0.4f}\")\n",
    "\n",
    "print(f\"avg_reward = {all_ep_reward/num_episodes_train:0.4f}\")"
   ]
  },
  {
   "cell_type": "code",
   "execution_count": null,
   "id": "e0e35405-d3a6-41e0-92e6-c9ada4de37c9",
   "metadata": {},
   "outputs": [],
   "source": []
  }
 ],
 "metadata": {
  "kernelspec": {
   "display_name": "Python 3 (ipykernel)",
   "language": "python",
   "name": "python3"
  },
  "language_info": {
   "codemirror_mode": {
    "name": "ipython",
    "version": 3
   },
   "file_extension": ".py",
   "mimetype": "text/x-python",
   "name": "python",
   "nbconvert_exporter": "python",
   "pygments_lexer": "ipython3",
   "version": "3.7.16"
  }
 },
 "nbformat": 4,
 "nbformat_minor": 5
}
