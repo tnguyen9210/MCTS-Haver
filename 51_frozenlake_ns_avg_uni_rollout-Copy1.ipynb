{
 "cells": [
  {
   "cell_type": "code",
   "execution_count": 1,
   "id": "ec74e067-4a28-4ea8-a9cc-2f42451e3be1",
   "metadata": {
    "tags": []
   },
   "outputs": [],
   "source": [
    "from collections import defaultdict\n",
    "import random\n",
    "import numpy as np\n",
    "np.set_printoptions(precision=2, suppress=True)\n",
    "\n",
    "import time\n",
    "import copy \n",
    "import multiprocess as mp\n",
    "\n",
    "import gym\n",
    "from env import FrozenLakeCustom, FrozenLakeSimulator\n",
    "\n",
    "from mcts_haver import run_mcts_trial\n",
    "from value_iteration import value_iteration\n",
    "\n",
    "from config import parse_args\n",
    "from utils import MultiProcess\n",
    "\n",
    "import logging\n",
    "logger = logging.getLogger()\n",
    "logger.setLevel(logging.FATAL)"
   ]
  },
  {
   "cell_type": "code",
   "execution_count": 2,
   "id": "7439dddd-4cdb-485d-a305-16d217b8781b",
   "metadata": {
    "tags": []
   },
   "outputs": [],
   "source": [
    "np.random.seed(0)\n",
    "random.seed(0)\n",
    "\n",
    "# params\n",
    "args = parse_args()\n",
    "\n",
    "m = args[\"num_trials\"]\n",
    "random_seeds = np.loadtxt(\"random_seeds.txt\").astype(\"int64\")\n",
    "env_seeds = random_seeds[:m]\n",
    "simulator_seeds = random_seeds[m:2*m]\n",
    "mcts_seeds = random_seeds[2*m:]\n",
    "\n",
    "#\n",
    "env_id = \"FrozenLake-v1\"\n",
    "env = FrozenLakeCustom(\n",
    "    map_name=args[\"map_name\"], is_slippery=args[\"is_slippery\"],\n",
    "    render_mode=args[\"render_mode\"])\n",
    "\n",
    "simulator = FrozenLakeSimulator(env.P, simulator_seed=0)\n",
    "\n",
    "V_vit, Q_vit = value_iteration(\n",
    "    simulator, args[\"gamma\"], args[\"vit_thres\"])\n",
    "# global Q_vit_g = Q_vit\n",
    "        \n",
    "for state in range(simulator.num_states):\n",
    "    logging.warning(f\"\\n-> state = {state}\")\n",
    "    logging.warning(f\"V[state] = {V_vit[state]:0.4f}\")\n",
    "    for action in range(simulator.num_actions):\n",
    "        logging.warning(f\"Q[state][action] = {Q_vit[state][action]:0.4f}\")\n",
    "    logging.warning(f\"best_action={np.argmax(Q_vit[state])}\")\n",
    "    \n",
    "manager = mp.Manager()\n",
    "ep_reward_list = manager.list()\n",
    "Q_mcts_list = manager.list()\n",
    "\n",
    "def run_trial(i_trial, Q_vit, env_seed, simulator_seed, mcts_seed, args):\n",
    "\n",
    "    # random.seed(random_seeds[i_trial])\n",
    "    # np.random.seed(random_seeds[i_trial])\n",
    "\n",
    "    env = FrozenLakeCustom(\n",
    "        map_name=args[\"map_name\"], is_slippery=args[\"is_slippery\"],\n",
    "        render_mode=args[\"render_mode\"])\n",
    "\n",
    "    simulator = FrozenLakeSimulator(env.P, simulator_seed)\n",
    "\n",
    "    Q_mcts, ep_reward = run_mcts_trial(env, simulator, Q_vit, i_trial, env_seed, mcts_seed, args)\n",
    "\n",
    "    ep_reward_list.append(ep_reward)\n",
    "    Q_mcts_list.append(Q_mcts)\n",
    "    return ep_reward"
   ]
  },
  {
   "cell_type": "code",
   "execution_count": 3,
   "id": "e9d0cc51-788f-4160-82e6-30a1aea317fe",
   "metadata": {
    "tags": []
   },
   "outputs": [
    {
     "name": "stdout",
     "output_type": "stream",
     "text": [
      "num_trials = 500\n",
      "\n",
      "-> num_trajectories = 200\n",
      "reward = -56.13 +/- 2.16\n",
      "reward = -64.07 +/- 2.11\n",
      "reward = -80.06 +/- 1.79\n",
      "reward = -75.07 +/- 1.93\n",
      "reward = -80.31 +/- 1.79\n",
      "reward = -78.00 +/- 1.85\n",
      "max_reward_mean = -56.13\n",
      "it takes 45.2519\n",
      "\n",
      "-> num_trajectories = 500\n",
      "reward = -23.82 +/- 1.75\n",
      "reward = -31.94 +/- 1.97\n",
      "reward = -63.79 +/- 2.11\n",
      "reward = -71.17 +/- 2.01\n",
      "reward = -81.66 +/- 1.74\n",
      "reward = -88.06 +/- 1.48\n",
      "max_reward_mean = -23.82\n",
      "it takes 112.3635\n",
      "\n",
      "-> num_trajectories = 100\n",
      "reward = -71.20 +/- 2.01\n",
      "reward = -77.66 +/- 1.86\n",
      "reward = -78.94 +/- 1.83\n",
      "reward = -79.63 +/- 1.81\n",
      "reward = -78.43 +/- 1.85\n",
      "reward = -83.13 +/- 1.70\n",
      "max_reward_mean = -71.20\n",
      "it takes 24.5217\n"
     ]
    }
   ],
   "source": [
    "args[\"update_method\"] = \"avg\"\n",
    "args[\"rollout_method\"] = \"\"\n",
    "\n",
    "print(f\"num_trials = {args['num_trials']}\")\n",
    "# print(f\"mcts_num_trajectories = {args['mcts_num_trajectories']}\")\n",
    "\n",
    "Q_mcts_dict = defaultdict()\n",
    "\n",
    "\n",
    "\n",
    "hparam_ucb_scale_list = np.arange(10, 100, 10)\n",
    "# hparam_ucb_scale_list = np.arange(20, 64, 4)\n",
    "hparam_ucb_scale_list = [32, 64, 128, 256, 512, 1024]\n",
    "# hparam_ucb_scale_list = [2**i for i in range(1, 9)]\n",
    "\n",
    "\n",
    "# num_trajectories_list = [200, 500, 1000, 1500, 2000, 2500, 3000]\n",
    "num_trajectories_list = [200, 500, 100]\n",
    "# num_trajectories_list = [2]\n",
    "best_param_list = []\n",
    "max_reward_mean_list = []\n",
    "res_text1 = \"\"\n",
    "res_text2 = \"\"\n",
    "for num_trajectories in num_trajectories_list:\n",
    "    print(f\"\\n-> num_trajectories = {num_trajectories}\")\n",
    "    args[\"mcts_num_trajectories\"] = num_trajectories\n",
    "    \n",
    "    best_param = None\n",
    "    max_reward_mean = -np.inf\n",
    "    start_time = time.time()\n",
    "    res_text1 += f\"{num_trajectories} \"\n",
    "    res_text2 += f\"{num_trajectories} \"\n",
    "    for hparam_ucb_scale in hparam_ucb_scale_list:\n",
    "        # start_time = time.time()\n",
    "\n",
    "        # print(f\"hparam_ucb_scale = {hparam_ucb_scale}\")\n",
    "        args[\"hparam_ucb_scale\"] = hparam_ucb_scale\n",
    "        \n",
    "        pool = mp.Pool()\n",
    "        pool.starmap(\n",
    "                run_trial, \n",
    "                [(i, Q_vit, env_seeds[i], simulator_seeds[i], mcts_seeds[i], args) for i in range(args[\"num_trials\"])])\n",
    "\n",
    "        reward_mean = np.mean(ep_reward_list)\n",
    "        reward_std = np.std(ep_reward_list, ddof=1) if len(ep_reward_list) > 1 else 0\n",
    "        reward_error = reward_std/np.sqrt(args[\"num_trials\"])\n",
    "        if hparam_ucb_scale <= 8:\n",
    "            res_text1 += f\"& {reward_mean:0.2f} (\\u00B1{reward_error:0.2f}) \"\n",
    "        else:\n",
    "            res_text2 += f\"& {reward_mean:0.2f} (\\u00B1{reward_error:0.2f}) \"\n",
    "        print(f\"reward = {reward_mean:0.2f} +/- {reward_error:0.2f}\")\n",
    "\n",
    "        # Q_mcts_dict[f\"{hparam_ucb_scale}\"] = copy.deepcopy(Q_mcts_list)\n",
    "\n",
    "        if reward_mean > max_reward_mean:\n",
    "            max_reward_mean = reward_mean \n",
    "            best_param = hparam_ucb_scale\n",
    "    \n",
    "        ep_reward_list[:] = []\n",
    "        Q_mcts_list[:] = []\n",
    "    \n",
    "        end_time = time.time()\n",
    "        # print(f\"it takes {end_time-start_time:0.4f}\")\n",
    "    \n",
    "    res_text1 += \"\\\\\\\\ \\n \\hline \\n\"\n",
    "    res_text2 += \"\\\\\\\\ \\n \\hline \\n\"\n",
    "    \n",
    "    print(f\"max_reward_mean = {max_reward_mean:0.2f}\")\n",
    "    print(f\"it takes {end_time-start_time:0.4f}\")\n",
    "    \n",
    "    max_reward_mean_list.append(max_reward_mean)\n",
    "    best_param_list.append(best_param)"
   ]
  },
  {
   "cell_type": "code",
   "execution_count": 4,
   "id": "74d9d773-a10f-45bf-a513-9f8661c58c01",
   "metadata": {
    "tags": []
   },
   "outputs": [
    {
     "name": "stdout",
     "output_type": "stream",
     "text": [
      "[32, 32, 32]\n"
     ]
    }
   ],
   "source": [
    "print(best_param_list)"
   ]
  },
  {
   "cell_type": "code",
   "execution_count": 5,
   "id": "62dda670-a657-4df7-8c01-56ff279c8c33",
   "metadata": {
    "tags": []
   },
   "outputs": [
    {
     "name": "stdout",
     "output_type": "stream",
     "text": [
      "200 \\\\ \n",
      " \\hline \n",
      "500 \\\\ \n",
      " \\hline \n",
      "100 \\\\ \n",
      " \\hline \n",
      "\n",
      "200 & -56.13 (±2.16) & -64.07 (±2.11) & -80.06 (±1.79) & -75.07 (±1.93) & -80.31 (±1.79) & -78.00 (±1.85) \\\\ \n",
      " \\hline \n",
      "500 & -23.82 (±1.75) & -31.94 (±1.97) & -63.79 (±2.11) & -71.17 (±2.01) & -81.66 (±1.74) & -88.06 (±1.48) \\\\ \n",
      " \\hline \n",
      "100 & -71.20 (±2.01) & -77.66 (±1.86) & -78.94 (±1.83) & -79.63 (±1.81) & -78.43 (±1.85) & -83.13 (±1.70) \\\\ \n",
      " \\hline \n",
      "\n"
     ]
    }
   ],
   "source": [
    "print(res_text1)\n",
    "print(res_text2)"
   ]
  }
 ],
 "metadata": {
  "kernelspec": {
   "display_name": "Python 3 (ipykernel)",
   "language": "python",
   "name": "python3"
  },
  "language_info": {
   "codemirror_mode": {
    "name": "ipython",
    "version": 3
   },
   "file_extension": ".py",
   "mimetype": "text/x-python",
   "name": "python",
   "nbconvert_exporter": "python",
   "pygments_lexer": "ipython3",
   "version": "3.10.8"
  }
 },
 "nbformat": 4,
 "nbformat_minor": 5
}
