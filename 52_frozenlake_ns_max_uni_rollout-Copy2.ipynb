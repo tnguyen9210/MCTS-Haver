{
 "cells": [
  {
   "cell_type": "code",
   "execution_count": 1,
   "id": "ec74e067-4a28-4ea8-a9cc-2f42451e3be1",
   "metadata": {
    "tags": []
   },
   "outputs": [],
   "source": [
    "from collections import defaultdict\n",
    "import random\n",
    "import numpy as np\n",
    "np.set_printoptions(precision=2, suppress=True)\n",
    "\n",
    "import time\n",
    "import copy \n",
    "import multiprocess as mp\n",
    "\n",
    "import gym\n",
    "from env import FrozenLakeCustom, FrozenLakeSimulator\n",
    "\n",
    "from mcts_haver import run_mcts_trial\n",
    "from value_iteration import value_iteration\n",
    "\n",
    "from config import parse_args\n",
    "from utils import MultiProcess\n",
    "\n",
    "import logging\n",
    "logger = logging.getLogger()\n",
    "logger.setLevel(logging.FATAL)"
   ]
  },
  {
   "cell_type": "code",
   "execution_count": 2,
   "id": "7439dddd-4cdb-485d-a305-16d217b8781b",
   "metadata": {
    "tags": []
   },
   "outputs": [],
   "source": [
    "np.random.seed(0)\n",
    "random.seed(0)\n",
    "\n",
    "# params\n",
    "args = parse_args()\n",
    "\n",
    "m = args[\"num_trials\"]\n",
    "random_seeds = np.loadtxt(\"random_seeds.txt\").astype(\"int64\")\n",
    "env_seeds = random_seeds[:m]\n",
    "simulator_seeds = random_seeds[m:2*m]\n",
    "mcts_seeds = random_seeds[2*m:]\n",
    "\n",
    "#\n",
    "env_id = \"FrozenLake-v1\"\n",
    "env = FrozenLakeCustom(\n",
    "    map_name=args[\"map_name\"], is_slippery=args[\"is_slippery\"],\n",
    "    render_mode=args[\"render_mode\"])\n",
    "\n",
    "simulator = FrozenLakeSimulator(env.P, simulator_seed=0)\n",
    "\n",
    "V_vit, Q_vit = value_iteration(\n",
    "    simulator, args[\"gamma\"], args[\"vit_thres\"])\n",
    "# global Q_vit_g = Q_vit\n",
    "        \n",
    "for state in range(simulator.num_states):\n",
    "    logging.warning(f\"\\n-> state = {state}\")\n",
    "    logging.warning(f\"V[state] = {V_vit[state]:0.4f}\")\n",
    "    for action in range(simulator.num_actions):\n",
    "        logging.warning(f\"Q[state][action] = {Q_vit[state][action]:0.4f}\")\n",
    "    logging.warning(f\"best_action={np.argmax(Q_vit[state])}\")\n",
    "    \n",
    "manager = mp.Manager()\n",
    "ep_reward_list = manager.list()\n",
    "Q_mcts_list = manager.list()\n",
    "\n",
    "def run_trial(i_trial, Q_vit, env_seed, simulator_seed, mcts_seed, args):\n",
    "\n",
    "    # random.seed(random_seeds[i_trial])\n",
    "    # np.random.seed(random_seeds[i_trial])\n",
    "    \n",
    "    env = FrozenLakeCustom(\n",
    "        map_name=args[\"map_name\"], is_slippery=args[\"is_slippery\"],\n",
    "        render_mode=args[\"render_mode\"])\n",
    "    # env.set_seed(env_seed)\n",
    "\n",
    "    simulator = FrozenLakeSimulator(env.P, simulator_seed)\n",
    "\n",
    "    Q_mcts, ep_reward = run_mcts_trial(env, simulator, Q_vit, i_trial, env_seed, mcts_seed, args)\n",
    "\n",
    "    ep_reward_list.append(ep_reward)\n",
    "    Q_mcts_list.append(Q_mcts)\n",
    "    return ep_reward"
   ]
  },
  {
   "cell_type": "code",
   "execution_count": 3,
   "id": "e9d0cc51-788f-4160-82e6-30a1aea317fe",
   "metadata": {
    "tags": []
   },
   "outputs": [
    {
     "name": "stdout",
     "output_type": "stream",
     "text": [
      "num_trials = 500\n",
      "\n",
      "-> num_trajectories = 500\n",
      "reward = -17.65 +/- 1.51\n",
      "reward = -20.32 +/- 1.62\n",
      "reward = -15.64 +/- 1.41\n",
      "reward = -23.02 +/- 1.72\n",
      "reward = -18.96 +/- 1.57\n",
      "reward = -16.62 +/- 1.46\n",
      "max_reward_mean = -15.64\n",
      "it takes 245.8581\n"
     ]
    }
   ],
   "source": [
    "args[\"update_method\"] = \"max\"\n",
    "args[\"rollout_method\"] = \"\"\n",
    "\n",
    "print(f\"num_trials = {args['num_trials']}\")\n",
    "# print(f\"mcts_num_trajectories = {args['mcts_num_trajectories']}\")\n",
    "\n",
    "Q_mcts_dict = defaultdict()\n",
    "\n",
    "\n",
    "\n",
    "hparam_ucb_scale_list = np.arange(10, 100, 10)\n",
    "# hparam_ucb_scale_list = np.arange(20, 64, 4)\n",
    "hparam_ucb_scale_list = [32, 64, 128, 256, 512, 1024]\n",
    "# hparam_ucb_scale_list = [2**i for i in range(1, 9)]\n",
    "\n",
    "\n",
    "# num_trajectories_list = [200, 500, 1000, 1500, 2000, 2500, 3000]\n",
    "# num_trajectories_list = [200, 500, 100]\n",
    "num_trajectories_list = [500]\n",
    "# num_trajectories_list = [2]\n",
    "best_param_list = []\n",
    "max_reward_mean_list = []\n",
    "res_text1 = \"\"\n",
    "res_text2 = \"\"\n",
    "for num_trajectories in num_trajectories_list:\n",
    "    print(f\"\\n-> num_trajectories = {num_trajectories}\")\n",
    "    args[\"mcts_num_trajectories\"] = num_trajectories\n",
    "    \n",
    "    best_param = None\n",
    "    max_reward_mean = -np.inf\n",
    "    start_time = time.time()\n",
    "    res_text1 += f\"{num_trajectories} \"\n",
    "    res_text2 += f\"{num_trajectories} \"\n",
    "    for hparam_ucb_scale in hparam_ucb_scale_list:\n",
    "        # start_time = time.time()\n",
    "\n",
    "        # print(f\"hparam_ucb_scale = {hparam_ucb_scale}\")\n",
    "        args[\"hparam_ucb_scale\"] = hparam_ucb_scale\n",
    "        \n",
    "        pool = mp.Pool()\n",
    "        pool.starmap(\n",
    "                run_trial, \n",
    "                [(i, Q_vit, env_seeds[i], simulator_seeds[i], mcts_seeds[i], args) for i in range(args[\"num_trials\"])])\n",
    "        # run_trial(0, Q_vit, env_seeds[0], simulator_seeds[0], mcts_seeds[0], args)\n",
    "        \n",
    "        reward_mean = np.mean(ep_reward_list)\n",
    "        reward_std = np.std(ep_reward_list, ddof=1) if len(ep_reward_list) > 1 else 0\n",
    "        reward_error = reward_std/np.sqrt(args[\"num_trials\"])\n",
    "        if hparam_ucb_scale <= 8:\n",
    "            res_text1 += f\"& {reward_mean:0.2f} (\\u00B1{reward_error:0.2f}) \"\n",
    "        else:\n",
    "            res_text2 += f\"& {reward_mean:0.2f} (\\u00B1{reward_error:0.2f}) \"\n",
    "        print(f\"reward = {reward_mean:0.2f} +/- {reward_error:0.2f}\")\n",
    "\n",
    "        # Q_mcts_dict[f\"{hparam_ucb_scale}\"] = copy.deepcopy(Q_mcts_list)\n",
    "\n",
    "        if reward_mean > max_reward_mean:\n",
    "            max_reward_mean = reward_mean \n",
    "            best_param = hparam_ucb_scale\n",
    "    \n",
    "        ep_reward_list[:] = []\n",
    "        Q_mcts_list[:] = []\n",
    "    \n",
    "        end_time = time.time()\n",
    "        # print(f\"it takes {end_time-start_time:0.4f}\")\n",
    "    \n",
    "    res_text1 += \"\\\\\\\\ \\n \\hline \\n\"\n",
    "    res_text2 += \"\\\\\\\\ \\n \\hline \\n\"\n",
    "    \n",
    "    print(f\"max_reward_mean = {max_reward_mean:0.2f}\")\n",
    "    print(f\"it takes {end_time-start_time:0.4f}\")\n",
    "    \n",
    "    max_reward_mean_list.append(max_reward_mean)\n",
    "    best_param_list.append(best_param)"
   ]
  },
  {
   "cell_type": "code",
   "execution_count": 4,
   "id": "74d9d773-a10f-45bf-a513-9f8661c58c01",
   "metadata": {
    "tags": []
   },
   "outputs": [
    {
     "name": "stdout",
     "output_type": "stream",
     "text": [
      "[128]\n"
     ]
    }
   ],
   "source": [
    "print(best_param_list)"
   ]
  },
  {
   "cell_type": "code",
   "execution_count": 5,
   "id": "62dda670-a657-4df7-8c01-56ff279c8c33",
   "metadata": {
    "tags": []
   },
   "outputs": [
    {
     "name": "stdout",
     "output_type": "stream",
     "text": [
      "500 \\\\ \n",
      " \\hline \n",
      "\n",
      "500 & -17.65 (±1.51) & -20.32 (±1.62) & -15.64 (±1.41) & -23.02 (±1.72) & -18.96 (±1.57) & -16.62 (±1.46) \\\\ \n",
      " \\hline \n",
      "\n"
     ]
    }
   ],
   "source": [
    "print(res_text1)\n",
    "print(res_text2)"
   ]
  }
 ],
 "metadata": {
  "kernelspec": {
   "display_name": "Python 3 (ipykernel)",
   "language": "python",
   "name": "python3"
  },
  "language_info": {
   "codemirror_mode": {
    "name": "ipython",
    "version": 3
   },
   "file_extension": ".py",
   "mimetype": "text/x-python",
   "name": "python",
   "nbconvert_exporter": "python",
   "pygments_lexer": "ipython3",
   "version": "3.10.8"
  }
 },
 "nbformat": 4,
 "nbformat_minor": 5
}
